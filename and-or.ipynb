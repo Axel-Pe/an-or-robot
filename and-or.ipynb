{
  "nbformat": 4,
  "nbformat_minor": 0,
  "metadata": {
    "colab": {
      "name": "Untitled11.ipynb",
      "version": "0.3.2",
      "provenance": []
    },
    "kernelspec": {
      "name": "python3",
      "display_name": "Python 3"
    }
  },
  "cells": [
    {
      "cell_type": "code",
      "metadata": {
        "id": "U2Y3atPR8PCW",
        "colab_type": "code",
        "colab": {
          "base_uri": "https://localhost:8080/",
          "height": 390
        },
        "outputId": "42283e3d-f878-48f0-c943-854f2f2c8e25"
      },
      "source": [
        "import numpy as np\n",
        "import tensorflow as tf\n",
        "import matplotlib.pyplot as plt\n",
        "\n",
        "NUM_FEATURES = 2\n",
        "NUM_ITER = 2000\n",
        "learning_rate = 0.01\n",
        "\n",
        "x = np.array([[0, 0], [1, 0], [1, 1], [0, 1]], np.float32) # 4x2, input\n",
        "y = np.array([0, 0, 1, 0], np.float32) # 4, correct output, AND operation\n",
        "#y = np.array([0, 1, 1, 1], np.float32) # OR operation\n",
        "y = np.reshape(y, [4,1]) # convert to 4x1\n",
        "\n",
        "X = tf.placeholder(tf.float32, shape=[4, 2])\n",
        "Y = tf.placeholder(tf.float32, shape=[4, 1])\n",
        "\n",
        "W = tf.Variable(tf.zeros([NUM_FEATURES, 1]), tf.float32)\n",
        "B = tf.Variable(tf.zeros([1, 1]), tf.float32)\n",
        "\n",
        "yHat = tf.sigmoid( tf.add(tf.matmul(X, W), B) ) # 4x1\n",
        "err = Y - yHat\n",
        "deltaW = tf.matmul(tf.transpose(X), err ) # have to be 2x1\n",
        "deltaB = tf.reduce_sum(err, 0) # 4, have to 1x1. sum all the biases? yes\n",
        "W_ = W + learning_rate * deltaW\n",
        "B_ = B + learning_rate * deltaB\n",
        "\n",
        "step = tf.group(W.assign(W_), B.assign(B_)) #to update the values of weights and biases.\n",
        "\n",
        "sess = tf.Session()\n",
        "init = tf.global_variables_initializer()\n",
        "sess.run(init)\n",
        "\n",
        "for k in range(NUM_ITER):\n",
        " sess.run([step], feed_dict={X: x, Y: y})\n",
        "\n",
        "W = np.squeeze(sess.run(W))\n",
        "b = np.squeeze(sess.run(B))\n",
        "\n",
        "# Now plot the fitted line. We need only two points to plot the line\n",
        "plot_x = np.array([np.min(x[:, 0] - 0.2), np.max(x[:, 1]+0.2)])\n",
        "plot_y = - 1 / W[1] * (W[0] * plot_x + b)\n",
        "plot_y = np.reshape(plot_y, [2, -1])\n",
        "plot_y = np.squeeze(plot_y)\n",
        "\n",
        "print('W: ' + str(W))\n",
        "print('b: ' + str(b))\n",
        "print('plot_y: '+ str(plot_y))\n",
        "\n",
        "#plt.scatter(x[:, 0], x[:, 1], c=y, s=100, cmap='viridis')\n",
        "#plt.scatter(x[:, 0], x[:, 1], c=y.ravel(), s=100, cmap='viridis')\n",
        "plt.scatter(x[:, 0], x[:, 1], c=y.ravel(), s=100, cmap='viridis')\n",
        "plt.plot(plot_x, plot_y, color='k', linewidth=2)\n",
        "plt.xlim([-0.2, 1.2]); plt.ylim([-0.2, 1.25]);\n",
        "plt.show()"
      ],
      "execution_count": 1,
      "outputs": [
        {
          "output_type": "stream",
          "text": [
            "WARNING:tensorflow:From /usr/local/lib/python3.6/dist-packages/tensorflow/python/framework/op_def_library.py:263: colocate_with (from tensorflow.python.framework.ops) is deprecated and will be removed in a future version.\n",
            "Instructions for updating:\n",
            "Colocations handled automatically by placer.\n",
            "W: [2.6895783 2.6895783]\n",
            "b: -4.26431\n",
            "plot_y: [1.7854939  0.38549384]\n"
          ],
          "name": "stdout"
        },
        {
          "output_type": "display_data",
          "data": {
            "image/png": "[encoded data removed]",
            "text/plain": [
              "<Figure size 432x288 with 1 Axes>"
            ]
          },
          "metadata": {
            "tags": []
          }
        }
      ]
    },
    {
      "cell_type": "code",
      "metadata": {
        "id": "qvs4gKks8VX2",
        "colab_type": "code",
        "colab": {
          "base_uri": "https://localhost:8080/",
          "height": 319
        },
        "outputId": "4feeee56-6660-43c7-87f6-474a7287ffc7"
      },
      "source": [
        "import numpy as np\n",
        "import tensorflow as tf\n",
        "import matplotlib.pyplot as plt\n",
        "\n",
        "NUM_FEATURES = 2\n",
        "NUM_ITER = 2000\n",
        "learning_rate = 0.01\n",
        "\n",
        "x = np.array([[0, 0], [1, 0], [1, 1], [0, 1]], np.float32) # 4x2, input\n",
        "#y = np.array([0, 0, 1, 0], np.float32) # 4, correct output, AND operation\n",
        "y = np.array([0, 1, 1, 1], np.float32) # OR operation\n",
        "y = np.reshape(y, [4,1]) # convert to 4x1\n",
        "\n",
        "X = tf.placeholder(tf.float32, shape=[4, 2])\n",
        "Y = tf.placeholder(tf.float32, shape=[4, 1])\n",
        "\n",
        "W = tf.Variable(tf.zeros([NUM_FEATURES, 1]), tf.float32)\n",
        "B = tf.Variable(tf.zeros([1, 1]), tf.float32)\n",
        "\n",
        "yHat = tf.sigmoid( tf.add(tf.matmul(X, W), B) ) # 4x1\n",
        "err = Y - yHat\n",
        "deltaW = tf.matmul(tf.transpose(X), err ) # have to be 2x1\n",
        "deltaB = tf.reduce_sum(err, 0) # 4, have to 1x1. sum all the biases? yes\n",
        "W_ = W + learning_rate * deltaW\n",
        "B_ = B + learning_rate * deltaB\n",
        "\n",
        "step = tf.group(W.assign(W_), B.assign(B_)) #to update the values of weights and biases.\n",
        "\n",
        "sess = tf.Session()\n",
        "init = tf.global_variables_initializer()\n",
        "sess.run(init)\n",
        "\n",
        "for k in range(NUM_ITER):\n",
        " sess.run([step], feed_dict={X: x, Y: y})\n",
        "\n",
        "W = np.squeeze(sess.run(W))\n",
        "b = np.squeeze(sess.run(B))\n",
        "\n",
        "# Now plot the fitted line. We need only two points to plot the line\n",
        "plot_x = np.array([np.min(x[:, 0] - 0.2), np.max(x[:, 1]+0.2)])\n",
        "plot_y = - 1 / W[1] * (W[0] * plot_x + b)\n",
        "plot_y = np.reshape(plot_y, [2, -1])\n",
        "plot_y = np.squeeze(plot_y)\n",
        "\n",
        "print('W: ' + str(W))\n",
        "print('b: ' + str(b))\n",
        "print('plot_y: '+ str(plot_y))\n",
        "\n",
        "#plt.scatter(x[:, 0], x[:, 1], c=y, s=100, cmap='viridis')\n",
        "#plt.scatter(x[:, 0], x[:, 1], c=y.ravel(), s=100, cmap='viridis')\n",
        "plt.scatter(x[:, 0], x[:, 1], c=y.ravel(), s=100, cmap='viridis')\n",
        "plt.plot(plot_x, plot_y, color='k', linewidth=2)\n",
        "plt.xlim([-0.2, 1.2]); plt.ylim([-0.2, 1.25]);\n",
        "plt.show()"
      ],
      "execution_count": 2,
      "outputs": [
        {
          "output_type": "stream",
          "text": [
            "W: [3.605711 3.605711]\n",
            "b: -1.2415721\n",
            "plot_y: [ 0.54433495 -0.85566515]\n"
          ],
          "name": "stdout"
        },
        {
          "output_type": "display_data",
          "data": {
            "image/png": "[encoded data removed]",
            "text/plain": [
              "<Figure size 432x288 with 1 Axes>"
            ]
          },
          "metadata": {
            "tags": []
          }
        }
      ]
    }
  ]
}