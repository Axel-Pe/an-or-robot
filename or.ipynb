{
  "nbformat": 4,
  "nbformat_minor": 0,
  "metadata": {
    "colab": {
      "name": "Untitled1.ipynb",
      "version": "0.3.2",
      "provenance": [],
      "collapsed_sections": []
    },
    "kernelspec": {
      "name": "python3",
      "display_name": "Python 3"
    }
  },
  "cells": [
    {
      "cell_type": "code",
      "metadata": {
        "id": "BOlh3gViRV_L",
        "colab_type": "code",
        "colab": {}
      },
      "source": [
        "import numpy as np\n",
        "import scipy as sc\n",
        "import matplotlib.pyplot as plt\n",
        "\n",
        "#from sklearn.datasets import make_circles"
      ],
      "execution_count": 0,
      "outputs": []
    },
    {
      "cell_type": "code",
      "metadata": {
        "id": "EcfE9p_2S8nN",
        "colab_type": "code",
        "colab": {
          "base_uri": "https://localhost:8080/",
          "height": 269
        },
        "outputId": "77cf2c68-6411-4c92-db7b-9dfda599493e"
      },
      "source": [
        "#crear dataset\n",
        "n = 4\n",
        "p = 2\n",
        "\n",
        "\n",
        "X = np.array([[0, 0], [1, 0], [1, 1], [0, 1]], np.float32) # 4x2, input\n",
        "#y = np.array([0, 0, 1, 0], np.float32) # 4, correct output, AND operation\n",
        "y = np.array([0, 1, 1, 1], np.float32) # OR operation\n",
        "\n",
        "Y = y[:, np.newaxis]#le agrega una dimencion al array\n",
        "#imprimimos las variables\n",
        "plt.scatter(X[Y[:, 0] == 0, 0], X[Y[:, 0] == 0, 1], c=\"skyblue\")\n",
        "plt.scatter(X[Y[:, 0] == 1, 0], X[Y[:, 0] == 1, 1], c=\"salmon\")\n",
        "plt.axis(\"equal\")\n",
        "plt.show()"
      ],
      "execution_count": 62,
      "outputs": [
        {
          "output_type": "display_data",
          "data": {
            "image/png": "[encoded data removed]",
            "text/plain": [
              "<Figure size 432x288 with 1 Axes>"
            ]
          },
          "metadata": {
            "tags": []
          }
        }
      ]
    },
    {
      "cell_type": "code",
      "metadata": {
        "id": "lN7y_hCyR0k9",
        "colab_type": "code",
        "colab": {}
      },
      "source": [
        "#creamos la clase neural_layer para crear capas de una red\n",
        "class neural_layer():\n",
        " \n",
        "  def __init__(self, n_conn, n_neur, act_f):#la inicializamos y le pasamos los parametros que le vamos a pasar\n",
        "    #n_conn=numero de conecciones que vienen de la capa anterior\n",
        "    #n_neur=la cantidad de neuronas que tiene cada capa\n",
        "    #act_f=funcion de activacion\n",
        "    self.act_f = act_f#la funcuncion de de la capa es igual al parametro que le pasamos\n",
        "    #incializamos los parametros de la red y lo normalizamos multiplicando por dos y restandole uno\n",
        "    self.b = np.random.rand(1, n_neur)      * 2 - 1\n",
        "    self.W = np.random.rand(n_conn, n_neur) * 2 - 1"
      ],
      "execution_count": 0,
      "outputs": []
    },
    {
      "cell_type": "code",
      "metadata": {
        "id": "4WoJB2qgR39k",
        "colab_type": "code",
        "colab": {
          "base_uri": "https://localhost:8080/",
          "height": 286
        },
        "outputId": "94f49f08-a1b8-46ad-aef3-ab12b9e13f45"
      },
      "source": [
        "#def funciones de activacion\n",
        "sigm = (lambda x: 1 / (1 + np.e ** (-x)),\n",
        "        lambda x: x * (1 - x))\n",
        "\n",
        "relu = lambda x: np.maximum(0, x)\n",
        "\n",
        "_x = np.linspace(-5, 5, 100)\n",
        "plt.plot(_x, relu(_x))"
      ],
      "execution_count": 64,
      "outputs": [
        {
          "output_type": "execute_result",
          "data": {
            "text/plain": [
              "[<matplotlib.lines.Line2D at 0x7eff3c3f2940>]"
            ]
          },
          "metadata": {
            "tags": []
          },
          "execution_count": 64
        },
        {
          "output_type": "display_data",
          "data": {
            "image/png": "[encoded data removed]",
            "text/plain": [
              "<Figure size 432x288 with 1 Axes>"
            ]
          },
          "metadata": {
            "tags": []
          }
        }
      ]
    },
    {
      "cell_type": "code",
      "metadata": {
        "id": "p5tIDIr7SElM",
        "colab_type": "code",
        "colab": {
          "base_uri": "https://localhost:8080/",
          "height": 34
        },
        "outputId": "77cea9e0-1232-4fc1-bba5-829e27c658dc"
      },
      "source": [
        "# FUNCION DE ENTRENAMIENTO\n",
        "\n",
        "#topology = [p, 4, 8, 1]\n",
        "topology = [p,1]\n",
        "neural_net = create_nn(topology, sigm)  \n",
        "\n",
        "l2_cost = (lambda Yp, Yr: np.mean((Yp - Yr) ** 2),\n",
        "           lambda Yp, Yr: (Yp - Yr))\n",
        "\n",
        "\n",
        "\n",
        "def train(neural_net, X, Y, l2_cost, lr=0.5, train=True):\n",
        "  \n",
        "  out = [(None, X)]\n",
        "  \n",
        "  # Forward pass\n",
        "  for l, layer in enumerate(neural_net):\n",
        "  \n",
        "    z = out[-1][1] @ neural_net[l].W + neural_net[l].b\n",
        "    a = neural_net[l].act_f[0](z)\n",
        "  \n",
        "    out.append((z, a))\n",
        "    \n",
        "  \n",
        "  if train:\n",
        "    \n",
        "    # Backward pass \n",
        "    deltas = []\n",
        "    \n",
        "    for l in reversed(range(0, len(neural_net))):\n",
        "      \n",
        "      z = out[l+1][0]\n",
        "      a = out[l+1][1]\n",
        "      \n",
        "      if l == len(neural_net) - 1:\n",
        "        deltas.insert(0, l2_cost[1](a, Y) * neural_net[l].act_f[1](a))\n",
        "      else:\n",
        "        deltas.insert(0, deltas[0] @ _W.T * neural_net[l].act_f[1](a))\n",
        "       \n",
        "      _W = neural_net[l].W\n",
        " \n",
        "      # Gradient descent\n",
        "      neural_net[l].b = neural_net[l].b - np.mean(deltas[0], axis=0, keepdims=True) * lr   \n",
        "      neural_net[l].W = neural_net[l].W - out[l][1].T @ deltas[0] * lr\n",
        "      \n",
        "  return out[-1][1]\n",
        "  \n",
        "  \n",
        "train(neural_net, X, Y, l2_cost, 0.5)\n",
        "print(\"\")"
      ],
      "execution_count": 65,
      "outputs": [
        {
          "output_type": "stream",
          "text": [
            "\n"
          ],
          "name": "stdout"
        }
      ]
    },
    {
      "cell_type": "code",
      "metadata": {
        "id": "YN0sqVi9R7KU",
        "colab_type": "code",
        "colab": {}
      },
      "source": [
        "# CREAMOS LA RED NEURONAL\n",
        "\n",
        "#l0 = neural_layer(p, 4, sigm)\n",
        "#l1 = neural_layer(4, 8, sigm)\n",
        "# ...\n",
        "\n",
        "def create_nn(topology, act_f):#definimos una funcion\n",
        "  \n",
        "  nn = []\n",
        "  \n",
        "  for l, layer in enumerate(topology[:-1]):\n",
        "    \n",
        "    nn.append(neural_layer(topology[l], topology[l+1], act_f))\n",
        "    \n",
        "  return nn"
      ],
      "execution_count": 0,
      "outputs": []
    },
    {
      "cell_type": "code",
      "metadata": {
        "id": "oZN9r3hKSq55",
        "colab_type": "code",
        "colab": {
          "base_uri": "https://localhost:8080/",
          "height": 521
        },
        "outputId": "5219e260-60f1-4b1a-942a-e60b408df112"
      },
      "source": [
        "# VISUALIZACIÓN Y TEST\n",
        "\n",
        "import time\n",
        "from IPython.display import clear_output\n",
        "\n",
        "neural_n = create_nn(topology, sigm)\n",
        "\n",
        "loss = []\n",
        "\n",
        "for i in range(2500):\n",
        "    \n",
        "  # Entrenemos a la red!\n",
        "  pY = train(neural_n, X, Y, l2_cost, lr=0.05)\n",
        "  \n",
        "  if i % 25 == 0:\n",
        "    \n",
        "    print(pY)\n",
        "  \n",
        "    loss.append(l2_cost[0](pY, Y))\n",
        "  \n",
        "    res = 50\n",
        "\n",
        "    _x0 = np.linspace(-1.5, 1.5, res)\n",
        "    _x1 = np.linspace(-1.5, 1.5, res)\n",
        "\n",
        "    _Y = np.zeros((res, res))\n",
        "\n",
        "    for i0, x0 in enumerate(_x0):\n",
        "      for i1, x1 in enumerate(_x1):\n",
        "        _Y[i0, i1] = train(neural_n, np.array([[x0, x1]]), Y, l2_cost, train=False)[0][0]    \n",
        "\n",
        "    plt.pcolormesh(_x0, _x1, _Y, cmap=\"coolwarm\")\n",
        "    plt.axis(\"equal\")\n",
        "\n",
        "    plt.scatter(X[Y[:,0] == 0, 0], X[Y[:,0] == 0, 1], c=\"skyblue\")\n",
        "    plt.scatter(X[Y[:,0] == 1, 0], X[Y[:,0] == 1, 1], c=\"salmon\")\n",
        "\n",
        "    clear_output(wait=True)\n",
        "    plt.show()\n",
        "    plt.plot(range(len(loss)), loss)\n",
        "    plt.show()\n",
        "    time.sleep(0.5)  "
      ],
      "execution_count": 67,
      "outputs": [
        {
          "output_type": "display_data",
          "data": {
            "image/png": "[encoded data removed]",
            "text/plain": [
              "<Figure size 432x288 with 1 Axes>"
            ]
          },
          "metadata": {
            "tags": []
          }
        },
        {
          "output_type": "display_data",
          "data": {
            "image/png": "[encoded data removed]",
            "text/plain": [
              "<Figure size 432x288 with 1 Axes>"
            ]
          },
          "metadata": {
            "tags": []
          }
        }
      ]
    }
  ]
}